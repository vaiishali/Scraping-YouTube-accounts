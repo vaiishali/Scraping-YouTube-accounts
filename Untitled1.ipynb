{
  "nbformat": 4,
  "nbformat_minor": 0,
  "metadata": {
    "colab": {
      "name": "Untitled1.ipynb",
      "provenance": [],
      "collapsed_sections": []
    },
    "kernelspec": {
      "name": "python3",
      "display_name": "Python 3"
    }
  },
  "cells": [
    {
      "cell_type": "markdown",
      "metadata": {
        "id": "wE3foq48KDwU"
      },
      "source": [
        "The question assigned is to scrape data from different YouTube accounts of our choice and compare their subscriber number. To start with the problem I have selected a channel \"Bright Side\" that focuses on content like interesting fun fact and mixed genre videos and another channel picked is \"Fact Verse\" which also makes fabulous fact videos. I have always been curious to learn. I like reading different subjects and try to learn more. With conventional book method, this is not possible as it is not practical to own every single book. So, I watch these videos which create content from a wide range of subject and are not streamline to any particular topic. In this case, individual subscriber count is calculated to determine the most popular YouTube channel among the audience. Also, to see what content interest the users.  In the end, their difference is calculated."
      ]
    },
    {
      "cell_type": "code",
      "metadata": {
        "id": "atFw-QXZkP0Y"
      },
      "source": [
        "import requests\n",
        "import locale\n",
        "from bs4 import BeautifulSoup"
      ],
      "execution_count": null,
      "outputs": []
    },
    {
      "cell_type": "markdown",
      "metadata": {
        "id": "6lrlcr-WkbT-"
      },
      "source": [
        "We will now save our YouTube links of page \"Bright Side\" and \"Facts Verse\" to variables called url1 and url2 respectively."
      ]
    },
    {
      "cell_type": "code",
      "metadata": {
        "id": "FGSOfYU8kdPJ"
      },
      "source": [
        "url1 = 'https://www.youtube.com/channel/UC4rlAVgAK0SGk-yTfe48Qpw'"
      ],
      "execution_count": null,
      "outputs": []
    },
    {
      "cell_type": "code",
      "metadata": {
        "id": "iak_JRmXjepx"
      },
      "source": [
        "url2 = 'https://www.youtube.com/channel/UCXZpQgX1897wYDLtvzmgyIA/featured'"
      ],
      "execution_count": null,
      "outputs": []
    },
    {
      "cell_type": "code",
      "metadata": {
        "id": "l8H8guPrxLa9"
      },
      "source": [
        "def my_function(url):\n",
        "  a = url\n",
        "  response = requests.get(a)\n",
        "  print(response)\n",
        "  soup1 = BeautifulSoup(response.text, \"html.parser\")\n",
        "  return soup1"
      ],
      "execution_count": null,
      "outputs": []
    },
    {
      "cell_type": "code",
      "metadata": {
        "id": "K1lMO__AWD4M",
        "colab": {
          "base_uri": "https://localhost:8080/",
          "height": 50
        },
        "outputId": "6e3dd664-7109-4821-9062-b3897c6c918c"
      },
      "source": [
        "fun1 = my_function(url1)\n",
        "fun2 = my_function(url2)"
      ],
      "execution_count": null,
      "outputs": [
        {
          "output_type": "stream",
          "text": [
            "<Response [200]>\n",
            "<Response [200]>\n"
          ],
          "name": "stdout"
        }
      ]
    },
    {
      "cell_type": "code",
      "metadata": {
        "id": "iRj2uQhpYj89"
      },
      "source": [
        "print(fun1)"
      ],
      "execution_count": null,
      "outputs": []
    },
    {
      "cell_type": "code",
      "metadata": {
        "id": "T7f33rccY47f"
      },
      "source": [
        "print(fun2)"
      ],
      "execution_count": null,
      "outputs": []
    },
    {
      "cell_type": "markdown",
      "metadata": {
        "id": "IF854VAm6RLH"
      },
      "source": [
        "Right-click on the subscriber count on the YouTube channel and click on inspect. All the HTML code of the page can be collected using BeautifulSoup library. Print the soup. Copy it in notepad. Now search for 'subscribers' using the ctrl+f function. The search results will highlight the word and then search for subscriber count in the same line. In the span tag, find its class. Copy the class tag and paste it in the 'span tag’ variable. This class tag is the same for all the YouTube channels. To scrape the subscriber count, we include subscriber numbers in this tag."
      ]
    },
    {
      "cell_type": "markdown",
      "metadata": {
        "id": "Be9QKTQQORgj"
      },
      "source": [
        "![alt text](https://bit.ly/2XrepYG)"
      ]
    },
    {
      "cell_type": "code",
      "metadata": {
        "id": "qKKcnkhsVAoB"
      },
      "source": [
        "spantag1 = fun1.findAll(\"span\" , {\"class\": \"yt-subscription-button-subscriber-count-branded-horizontal subscribed yt-uix-tooltip\"})"
      ],
      "execution_count": null,
      "outputs": []
    },
    {
      "cell_type": "markdown",
      "metadata": {
        "id": "-3qVzggf6FP0"
      },
      "source": [
        "![alt text](https://bit.ly/2Mo41j7)"
      ]
    },
    {
      "cell_type": "code",
      "metadata": {
        "id": "pePS6UhRbsr-"
      },
      "source": [
        "print(spantag1)"
      ],
      "execution_count": null,
      "outputs": []
    },
    {
      "cell_type": "code",
      "metadata": {
        "id": "_NZbAWk6ucc2"
      },
      "source": [
        "spantag2 = fun2.findAll(\"span\" , {\"class\": \"yt-subscription-button-subscriber-count-branded-horizontal subscribed yt-uix-tooltip\"})"
      ],
      "execution_count": null,
      "outputs": []
    },
    {
      "cell_type": "code",
      "metadata": {
        "id": "adNj2yqiujDr"
      },
      "source": [
        "print(spantag2)"
      ],
      "execution_count": null,
      "outputs": []
    },
    {
      "cell_type": "code",
      "metadata": {
        "id": "P_zrg9174axv",
        "colab": {
          "base_uri": "https://localhost:8080/",
          "height": 34
        },
        "outputId": "33c38cdc-c378-40e3-9b88-8f24fc294eb2"
      },
      "source": [
        "for mytag in spantag1:\n",
        "  count1 = mytag.get_text()\n",
        "  print(count1)"
      ],
      "execution_count": null,
      "outputs": [
        {
          "output_type": "stream",
          "text": [
            "27,101,934\n"
          ],
          "name": "stdout"
        }
      ]
    },
    {
      "cell_type": "code",
      "metadata": {
        "id": "1udFdvk-oa08",
        "colab": {
          "base_uri": "https://localhost:8080/",
          "height": 34
        },
        "outputId": "de974d2b-98e8-4116-9a5b-e9dae10f6784"
      },
      "source": [
        "for mytag in spantag2:\n",
        "  count2 = mytag.get_text()\n",
        "  print(count2)"
      ],
      "execution_count": null,
      "outputs": [
        {
          "output_type": "stream",
          "text": [
            "7,144,100\n"
          ],
          "name": "stdout"
        }
      ]
    },
    {
      "cell_type": "code",
      "metadata": {
        "id": "J_r8TPIEMsRb",
        "colab": {
          "base_uri": "https://localhost:8080/",
          "height": 50
        },
        "outputId": "27b67765-cf9c-4862-f7a0-96293b88deb4"
      },
      "source": [
        "b=count1.replace(',', '')\n",
        "d=count2.replace(',', '')\n",
        "list(zip(count1,count2))\n",
        "c = int(b) \n",
        "print (\"Bright Side: \" + str(c))\n",
        "e = int(d)\n",
        "print (\"Facts Verse: \" + str(e))"
      ],
      "execution_count": null,
      "outputs": [
        {
          "output_type": "stream",
          "text": [
            "Bright Side: 27101934\n",
            "Facts Verse: 7144100\n"
          ],
          "name": "stdout"
        }
      ]
    },
    {
      "cell_type": "code",
      "metadata": {
        "id": "OqZZcTHv14wP",
        "colab": {
          "base_uri": "https://localhost:8080/",
          "height": 34
        },
        "outputId": "5154992b-1918-4e4d-cf86-9038158f1f0c"
      },
      "source": [
        "difference = c-e\n",
        "print(\"Subscriber Difference: \" + str(difference))"
      ],
      "execution_count": null,
      "outputs": [
        {
          "output_type": "stream",
          "text": [
            "Subscriber Difference: 19957834\n"
          ],
          "name": "stdout"
        }
      ]
    },
    {
      "cell_type": "markdown",
      "metadata": {
        "id": "TnfSJcWCADrI"
      },
      "source": [
        "The task assigned was to choose two YouTube accounts to scrape them and find out their subscribers count. We also find subscriber difference between the two. I selected \"Bright Side\" & \"Fact Verse\", they both provide content related to random facts along with fun mixed genre videos.  A function named 'my_function' is used to perform a common task to implement on any YouTube link. Return type soup is used to give the number of subscribers from the HTML code after scraping. In the end, to print individual subscribers of each channel without the use of a comma between them, the string type subscriber count is replaced by integer type subscriber count from the string. To get a subscriber count difference, subtract the two integers."
      ]
    }
  ]
}